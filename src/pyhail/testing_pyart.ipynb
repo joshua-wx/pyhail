{
 "cells": [
  {
   "cell_type": "code",
   "execution_count": 16,
   "metadata": {},
   "outputs": [],
   "source": [
    "import hdr\n",
    "import common\n",
    "import pyart\n",
    "\n",
    "import numpy as np"
   ]
  },
  {
   "cell_type": "code",
   "execution_count": null,
   "metadata": {},
   "outputs": [],
   "source": [
    "filename = \"/home/jsoderho/Downloads/66_20231110_063000.pvol.h5\"\n",
    "radar = pyart.aux_io.read_odim_h5(filename)"
   ]
  },
  {
   "cell_type": "code",
   "execution_count": 17,
   "metadata": {},
   "outputs": [],
   "source": [
    "#init dummy field\n",
    "empty_radar_field = {'data': np.zeros((radar.nrays, radar.ngates)),\n",
    "                     'units':'',\n",
    "                     'long_name': '',\n",
    "                     'description': '',\n",
    "                     'comments': ''}\n",
    "radar.add_field('hdr', empty_radar_field)\n",
    "radar.add_field('hdr_size', empty_radar_field)\n",
    "for sweep in range(radar.nsweeps):\n",
    "    hdr_meta, hdr_size_meta = hdr.main(radar.get_field(sweep, 'reflectivity_horizontal'), radar.get_field(sweep, 'differential_reflectivity'))\n",
    "    radar.fields['hdr']['data'][radar.get_slice(sweep)] = hdr_meta['data']\n",
    "    radar.fields['hdr_size']['data'][radar.get_slice(sweep)] = hdr_size_meta['data']\n",
    "\n",
    "#update metadata\n",
    "radar = common.add_pyart_metadata(radar, 'hdr', hdr_meta)\n",
    "radar = common.add_pyart_metadata(radar, 'hdr_size', hdr_size_meta)\n",
    "\n",
    "\n"
   ]
  }
 ],
 "metadata": {
  "kernelspec": {
   "display_name": "openradar",
   "language": "python",
   "name": "python3"
  },
  "language_info": {
   "codemirror_mode": {
    "name": "ipython",
    "version": 3
   },
   "file_extension": ".py",
   "mimetype": "text/x-python",
   "name": "python",
   "nbconvert_exporter": "python",
   "pygments_lexer": "ipython3",
   "version": "3.11.8"
  }
 },
 "nbformat": 4,
 "nbformat_minor": 2
}
