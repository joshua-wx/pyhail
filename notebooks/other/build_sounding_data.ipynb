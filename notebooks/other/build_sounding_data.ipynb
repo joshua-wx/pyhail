{
 "cells": [
  {
   "cell_type": "code",
   "execution_count": null,
   "metadata": {},
   "outputs": [],
   "source": [
    "\"\"\"\n",
    "THIS SCRIPT IS DESIGNED TO RUN ON THE NCI SUPERCOMPUTER.\n",
    "\n",
    "You'll need to use your own sounding datasets to build the required profile information\n",
    "\"\"\""
   ]
  },
  {
   "cell_type": "code",
   "execution_count": 2,
   "metadata": {},
   "outputs": [],
   "source": [
    "from glob import glob\n",
    "from datetime import datetime\n",
    "import xarray as xr\n",
    "import numpy as np\n",
    "from scipy.interpolate import interp1d"
   ]
  },
  {
   "cell_type": "code",
   "execution_count": 8,
   "metadata": {},
   "outputs": [],
   "source": [
    "def _sounding_interp(snd_temp, snd_height, target_temp):\n",
    "    \"\"\"\n",
    "    Provides an linear interpolated height for a target temperature using a\n",
    "    sounding vertical profile. Looks for first instance of temperature\n",
    "    below target_temp from surface upward.\n",
    "\n",
    "    Parameters\n",
    "    ----------\n",
    "    snd_temp : ndarray\n",
    "        Temperature data (degrees C).\n",
    "    snd_height : ndarray\n",
    "        Relative height data (m).\n",
    "    target_temp : float\n",
    "        Target temperature to find height at (m).\n",
    "\n",
    "    Returns\n",
    "    -------\n",
    "    intp_h: float\n",
    "        Interpolated height of target_temp (m).\n",
    "\n",
    "    \"\"\"\n",
    "    intp_h = np.nan\n",
    "\n",
    "    #check if target_temp is warmer than lowest level in sounding\n",
    "    if target_temp>snd_temp[0]:\n",
    "        print('warning, target temp level below sounding, returning ground level (0m)')\n",
    "        return 0.\n",
    "    \n",
    "    # find index above and below freezing level\n",
    "    mask = np.where(snd_temp < target_temp)\n",
    "    above_ind = mask[0][0]\n",
    "\n",
    "    # index below\n",
    "    below_ind = above_ind - 1\n",
    "    \n",
    "    # apply linear interplation to points above and below target_temp\n",
    "    set_interp = interp1d(\n",
    "        snd_temp[below_ind:above_ind+1],\n",
    "        snd_height[below_ind:above_ind+1], kind='linear')\n",
    "    \n",
    "    # apply interpolant\n",
    "    intp_h = set_interp(target_temp)\n",
    "    \n",
    "    return intp_h\n",
    "\n",
    "\n",
    "def mesh_levels(request_dt, request_lat, request_lon):\n",
    "    \n",
    "    #set era path\n",
    "    era5_root = '/g/data/ub4/era5/netcdf/pressure'\n",
    "    \n",
    "    #build file paths\n",
    "    month_str = request_dt.month\n",
    "    year_str = request_dt.year\n",
    "    temp_ffn = glob(f'{era5_root}/t/{year_str}/t_era5_aus_{year_str}{month_str:02}*.nc')[0]\n",
    "    geop_ffn = glob(f'{era5_root}/z/{year_str}/z_era5_aus_{year_str}{month_str:02}*.nc')[0]\n",
    "    rh_ffn   = glob(f'{era5_root}/r/{year_str}/r_era5_aus_{year_str}{month_str:02}*.nc')[0]\n",
    "    \n",
    "    #extract data\n",
    "    with xr.open_dataset(temp_ffn) as temp_ds:\n",
    "        temp_data = temp_ds.t.sel(longitude=request_lon, method='nearest').sel(latitude=request_lat, method='nearest').sel(time=request_dt, method='nearest').data[:] - 273.15 #units: deg K -> C\n",
    "    with xr.open_dataset(geop_ffn) as geop_ds:\n",
    "        geop_data = geop_ds.z.sel(longitude=request_lon, method='nearest').sel(latitude=request_lat, method='nearest').sel(time=request_dt, method='nearest').data[:]/9.80665 #units: m**2 s**-2 -> m\n",
    "    with xr.open_dataset(rh_ffn) as rh_ds:\n",
    "        rh_data = rh_ds.r.sel(longitude=request_lon, method='nearest').sel(latitude=request_lat, method='nearest').sel(time=request_dt, method='nearest').data[:] #units: percentage        \n",
    "    #flipdata (ground is first row)\n",
    "    temp_data = np.flipud(temp_data)\n",
    "    geop_data = np.flipud(geop_data)\n",
    "    rh_data = np.flipud(rh_data)\n",
    "    \n",
    "    #interpolate to 0C and -20C levels\n",
    "    fz_level = np.round(_sounding_interp(temp_data, geop_data, 0))\n",
    "    minus_20_level = np.round(_sounding_interp(temp_data, geop_data, -20))\n",
    "    \n",
    "    return [temp_data, geop_data, rh_data, fz_level, minus_20_level]"
   ]
  },
  {
   "cell_type": "code",
   "execution_count": 10,
   "metadata": {},
   "outputs": [],
   "source": [
    "request_dt = datetime.strptime('20200119_0500', '%Y%m%d_%H%M')\n",
    "request_lat = -37.83\n",
    "request_lon = 145.05\n",
    "[temp_data, geop_data, rh_data, fz_level, minus_20_level] = mesh_levels(request_dt, request_lat, request_lon)\n",
    "\n",
    "#save to npzfile\n",
    "np.savez('example_data/melb_20200119_era5_sounding.npz', t=temp_data, z=geop_data, r=rh_data, \n",
    "         fz_level=fz_level, minus_20_level=minus_20_level)"
   ]
  },
  {
   "cell_type": "code",
   "execution_count": null,
   "metadata": {},
   "outputs": [],
   "source": []
  }
 ],
 "metadata": {
  "kernelspec": {
   "display_name": "Python [conda env:radar-dev] *",
   "language": "python",
   "name": "conda-env-radar-dev-py"
  },
  "language_info": {
   "codemirror_mode": {
    "name": "ipython",
    "version": 3
   },
   "file_extension": ".py",
   "mimetype": "text/x-python",
   "name": "python",
   "nbconvert_exporter": "python",
   "pygments_lexer": "ipython3",
   "version": "3.8.5"
  }
 },
 "nbformat": 4,
 "nbformat_minor": 4
}
