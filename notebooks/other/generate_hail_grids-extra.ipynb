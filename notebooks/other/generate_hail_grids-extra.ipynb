{
 "cells": [
  {
   "cell_type": "code",
   "execution_count": 9,
   "metadata": {},
   "outputs": [],
   "source": [
    "\n",
    "#genreate grid object for cts fields\n",
    "grid = pyart.map.grid_from_radars(\n",
    "    radar,\n",
    "    grid_shape = grid_shape,\n",
    "    grid_limits = grid_limits,\n",
    "    weighting_function = 'Barnes',\n",
    "    gridding_algo = 'map_gates_to_grid',\n",
    "    roi_func='constant', constant_roi = grid_roi,\n",
    "    fields=['corrected_reflectivity', 'hdr_size'])\n",
    "\n",
    "#generate grid object for discrete fields (using nearest neighbour)\n",
    "import time\n",
    "start_time = time.time()\n",
    "\n",
    "grid_dis = pyart.map.grid_from_radars(\n",
    "    radar,\n",
    "    grid_shape = grid_shape,\n",
    "    grid_limits = grid_limits,\n",
    "    weighting_function = 'Nearest',\n",
    "    gridding_algo = 'map_to_grid',\n",
    "    roi_func='constant', constant_roi = 1000,\n",
    "    fields=['hsda'])    \n",
    "\n",
    "print(\"--- %s seconds ---\" % (time.time() - start_time))\n",
    "\n",
    "\n",
    "#add discrete gridded fields into master grid object\n",
    "hsda_grid = grid_dis.fields['hsda']\n",
    "grid.add_field('hsda', hsda_grid, replace_existing=True) \n"
   ]
  }
 ],
 "metadata": {
  "kernelspec": {
   "display_name": "Python [conda env:radar-dev] *",
   "language": "python",
   "name": "conda-env-radar-dev-py"
  },
  "language_info": {
   "codemirror_mode": {
    "name": "ipython",
    "version": 3
   },
   "file_extension": ".py",
   "mimetype": "text/x-python",
   "name": "python",
   "nbconvert_exporter": "python",
   "pygments_lexer": "ipython3",
   "version": "3.8.5"
  }
 },
 "nbformat": 4,
 "nbformat_minor": 4
}
