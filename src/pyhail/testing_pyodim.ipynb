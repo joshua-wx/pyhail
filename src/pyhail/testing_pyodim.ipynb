{
 "cells": [
  {
   "cell_type": "code",
   "execution_count": 1,
   "metadata": {},
   "outputs": [
    {
     "name": "stdout",
     "output_type": "stream",
     "text": [
      "imports static in hsda\n",
      "imports static in mesh\n"
     ]
    }
   ],
   "source": [
    "import pyodim\n",
    "import hdr, hsda, common\n",
    "import mesh_ppi_new as mesh"
   ]
  },
  {
   "cell_type": "code",
   "execution_count": 2,
   "metadata": {},
   "outputs": [
    {
     "name": "stdout",
     "output_type": "stream",
     "text": [
      "\n",
      "## You are using the Python ARM Radar Toolkit (Py-ART), an open source\n",
      "## library for working with weather radar data. Py-ART is partly\n",
      "## supported by the U.S. Department of Energy as part of the Atmospheric\n",
      "## Radiation Measurement (ARM) Climate Research Facility, an Office of\n",
      "## Science user facility.\n",
      "##\n",
      "## If you use this software to prepare a publication, please cite:\n",
      "##\n",
      "##     JJ Helmus and SM Collis, JORS 2016, doi: 10.5334/jors.119\n",
      "\n"
     ]
    }
   ],
   "source": [
    "filename = \"/home/jsoderho/Downloads/66_20231110_063000.pvol.h5\"\n",
    "radar_datasets = pyodim.read_odim(filename, lazy_load=False)"
   ]
  },
  {
   "cell_type": "code",
   "execution_count": 3,
   "metadata": {},
   "outputs": [
    {
     "name": "stdout",
     "output_type": "stream",
     "text": [
      "\n",
      "\n",
      "\n",
      "\n",
      "\n",
      "\n",
      "\n",
      "\n",
      "\n",
      "\n",
      "\n",
      "\n",
      "\n",
      "\n",
      "[0.5, 0.8, 1.4, 2.4, 3.5, 4.7, 6.0, 7.8, 10.0, 13.0, 17.0, 23.0, 32.0, 90.0]\n"
     ]
    },
    {
     "ename": "ValueError",
     "evalue": "operands could not be broadcast together with shapes (1490,1490) (360,1490) ",
     "output_type": "error",
     "traceback": [
      "\u001b[0;31m---------------------------------------------------------------------------\u001b[0m",
      "\u001b[0;31mValueError\u001b[0m                                Traceback (most recent call last)",
      "Cell \u001b[0;32mIn[3], line 46\u001b[0m\n\u001b[1;32m     42\u001b[0m     range_dataset\u001b[38;5;241m.\u001b[39mappend(radar_datasets[sweep_idx][\u001b[38;5;124m'\u001b[39m\u001b[38;5;124mrange\u001b[39m\u001b[38;5;124m'\u001b[39m]\u001b[38;5;241m.\u001b[39mvalues)\n\u001b[1;32m     44\u001b[0m \u001b[38;5;28mprint\u001b[39m(elevation_dataset)\n\u001b[0;32m---> 46\u001b[0m ke_dict, shi_dict, mesh_dict, posh_dict \u001b[38;5;241m=\u001b[39m \u001b[43mmesh\u001b[49m\u001b[38;5;241;43m.\u001b[39;49m\u001b[43mmain\u001b[49m\u001b[43m(\u001b[49m\u001b[43mreflectivity_dataset\u001b[49m\u001b[43m,\u001b[49m\n\u001b[1;32m     47\u001b[0m \u001b[43m                                                    \u001b[49m\u001b[43melevation_dataset\u001b[49m\u001b[43m,\u001b[49m\n\u001b[1;32m     48\u001b[0m \u001b[43m                                                    \u001b[49m\u001b[43mazimuth_dataset\u001b[49m\u001b[43m,\u001b[49m\n\u001b[1;32m     49\u001b[0m \u001b[43m                                                    \u001b[49m\u001b[43mrange_dataset\u001b[49m\u001b[43m,\u001b[49m\n\u001b[1;32m     50\u001b[0m \u001b[43m                                                    \u001b[49m\u001b[43mradar_altitude\u001b[49m\u001b[43m,\u001b[49m\n\u001b[1;32m     51\u001b[0m \u001b[43m                                                    \u001b[49m\u001b[43m[\u001b[49m\u001b[38;5;241;43m4000\u001b[39;49m\u001b[43m,\u001b[49m\u001b[38;5;241;43m5500\u001b[39;49m\u001b[43m]\u001b[49m\u001b[43m)\u001b[49m\n",
      "File \u001b[0;32m~/dev/pyhail/src/pyhail/mesh_ppi_new.py:104\u001b[0m, in \u001b[0;36mmain\u001b[0;34m(reflectivity_dataset, elevation_dataset, azimuth_dataset, range_dataset, radar_altitude, levels, radar_band, min_range, max_range, mesh_method, correct_cband_refl)\u001b[0m\n\u001b[1;32m    101\u001b[0m range_grid, azimuth_grid \u001b[38;5;241m=\u001b[39m np\u001b[38;5;241m.\u001b[39mmeshgrid(range_dataset[i], azimuth_dataset[i])\n\u001b[1;32m    102\u001b[0m range_grid, elevation_grid \u001b[38;5;241m=\u001b[39m np\u001b[38;5;241m.\u001b[39mmeshgrid(range_dataset[i], elevation_array)\n\u001b[0;32m--> 104\u001b[0m x, y, z \u001b[38;5;241m=\u001b[39m \u001b[43mcommon\u001b[49m\u001b[38;5;241;43m.\u001b[39;49m\u001b[43mantenna_to_cartesian\u001b[49m\u001b[43m(\u001b[49m\u001b[43mrange_grid\u001b[49m\u001b[43m,\u001b[49m\n\u001b[1;32m    105\u001b[0m \u001b[43m                                      \u001b[49m\u001b[43mazimuth_grid\u001b[49m\u001b[43m,\u001b[49m\n\u001b[1;32m    106\u001b[0m \u001b[43m                                      \u001b[49m\u001b[43melevation_grid\u001b[49m\u001b[43m)\u001b[49m\n\u001b[1;32m    107\u001b[0m x_dataset\u001b[38;5;241m.\u001b[39mappend(x)\n\u001b[1;32m    108\u001b[0m y_dataset\u001b[38;5;241m.\u001b[39mappend(y)\n",
      "File \u001b[0;32m~/dev/pyhail/src/pyhail/common.py:294\u001b[0m, in \u001b[0;36mantenna_to_cartesian\u001b[0;34m(ranges, azimuths, elevations)\u001b[0m\n\u001b[1;32m    292\u001b[0m z \u001b[38;5;241m=\u001b[39m (r \u001b[38;5;241m*\u001b[39m\u001b[38;5;241m*\u001b[39m \u001b[38;5;241m2\u001b[39m \u001b[38;5;241m+\u001b[39m R \u001b[38;5;241m*\u001b[39m\u001b[38;5;241m*\u001b[39m \u001b[38;5;241m2\u001b[39m \u001b[38;5;241m+\u001b[39m \u001b[38;5;241m2.0\u001b[39m \u001b[38;5;241m*\u001b[39m r \u001b[38;5;241m*\u001b[39m R \u001b[38;5;241m*\u001b[39m np\u001b[38;5;241m.\u001b[39msin(theta_e)) \u001b[38;5;241m*\u001b[39m\u001b[38;5;241m*\u001b[39m \u001b[38;5;241m0.5\u001b[39m \u001b[38;5;241m-\u001b[39m R\n\u001b[1;32m    293\u001b[0m s \u001b[38;5;241m=\u001b[39m R \u001b[38;5;241m*\u001b[39m np\u001b[38;5;241m.\u001b[39marcsin(r \u001b[38;5;241m*\u001b[39m np\u001b[38;5;241m.\u001b[39mcos(theta_e) \u001b[38;5;241m/\u001b[39m (R \u001b[38;5;241m+\u001b[39m z))  \u001b[38;5;66;03m# arc length in m.\u001b[39;00m\n\u001b[0;32m--> 294\u001b[0m x \u001b[38;5;241m=\u001b[39m \u001b[43ms\u001b[49m\u001b[43m \u001b[49m\u001b[38;5;241;43m*\u001b[39;49m\u001b[43m \u001b[49m\u001b[43mnp\u001b[49m\u001b[38;5;241;43m.\u001b[39;49m\u001b[43msin\u001b[49m\u001b[43m(\u001b[49m\u001b[43mtheta_a\u001b[49m\u001b[43m)\u001b[49m\n\u001b[1;32m    295\u001b[0m y \u001b[38;5;241m=\u001b[39m s \u001b[38;5;241m*\u001b[39m np\u001b[38;5;241m.\u001b[39mcos(theta_a)\n\u001b[1;32m    296\u001b[0m \u001b[38;5;28;01mreturn\u001b[39;00m x, y, z\n",
      "\u001b[0;31mValueError\u001b[0m: operands could not be broadcast together with shapes (1490,1490) (360,1490) "
     ]
    }
   ],
   "source": [
    "#run retreivals that work on individual sweeps\n",
    "for sweep in range(len(radar_datasets)):\n",
    "    #add HCA data\n",
    "    hca_meta = common.get_odim_ncar_hca(radar_datasets[sweep]['elevation'].data[0], filename, radar_datasets[sweep]['DBZH'].shape, skip_birdbath=True)\n",
    "    radar_datasets[sweep] = radar_datasets[sweep].merge(\n",
    "        {'hca': ((\"azimuth\", \"range\"), hca_meta['data']) })\n",
    "    print()\n",
    "    radar_datasets[sweep] = common.add_pyodim_sweep_metadata(radar_datasets[sweep], 'hca', hca_meta)\n",
    "    #hail retrievals\n",
    "    hdr_meta, hdr_size_meta = hdr.main(radar_datasets[sweep]['DBZH'].values,\n",
    "                                       radar_datasets[sweep]['ZDR'].values)\n",
    "    hsda_meta = hsda.main(radar_datasets[sweep]['DBZH'].values,\n",
    "                                        radar_datasets[sweep]['ZDR'].values,\n",
    "                                        radar_datasets[sweep]['RHOHV'].values,\n",
    "                                        radar_datasets[sweep]['hca'].values,\n",
    "                                        radar_datasets[sweep]['z'].values,\n",
    "                                        [4000,5500],\n",
    "                                        [6, 7, 8])\n",
    "\n",
    "    #add new fields\n",
    "    radar_datasets[sweep] = radar_datasets[sweep].merge(\n",
    "        {'hdr': ((\"azimuth\", \"range\"), hdr_meta['data']),\n",
    "         'hdr_size': ((\"azimuth\", \"range\"), hdr_size_meta['data']),\n",
    "         'hsda': ((\"azimuth\", \"range\"), hsda_meta['data']) })\n",
    "    #update metadata for new fields\n",
    "    radar_datasets[sweep] = common.add_pyodim_sweep_metadata(radar_datasets[sweep], 'hdr', hdr_meta)\n",
    "    radar_datasets[sweep] = common.add_pyodim_sweep_metadata(radar_datasets[sweep], 'hdr_size', hdr_meta)\n",
    "    radar_datasets[sweep] = common.add_pyodim_sweep_metadata(radar_datasets[sweep], 'hsda', hsda_meta)\n",
    "\n",
    "#run retreivals that work on entire volume only\n",
    "#mesh\n",
    "#build coords\n",
    "reflectivity_dataset = []\n",
    "elevation_dataset = []\n",
    "azimuth_dataset = []\n",
    "range_dataset = []\n",
    "radar_altitude = radar_datasets[0].attrs['height']\n",
    "for sweep_idx in range(len(radar_datasets)):\n",
    "    reflectivity_dataset.append(radar_datasets[sweep_idx]['DBZH'].values)\n",
    "    elevation_dataset.append(radar_datasets[sweep_idx]['elevation'].data[0])\n",
    "    azimuth_dataset.append(radar_datasets[sweep_idx]['azimuth'].values)\n",
    "    range_dataset.append(radar_datasets[sweep_idx]['range'].values)\n",
    "\n",
    "print(elevation_dataset)\n",
    "\n",
    "ke_dict, shi_dict, mesh_dict, posh_dict = mesh.main(reflectivity_dataset,\n",
    "                                                    elevation_dataset,\n",
    "                                                    azimuth_dataset,\n",
    "                                                    range_dataset,\n",
    "                                                    radar_altitude,\n",
    "                                                    [4000,5500])"
   ]
  },
  {
   "cell_type": "code",
   "execution_count": 9,
   "metadata": {},
   "outputs": [
    {
     "ename": "TypeError",
     "evalue": "object of type 'int' has no len()",
     "output_type": "error",
     "traceback": [
      "\u001b[0;31m---------------------------------------------------------------------------\u001b[0m",
      "\u001b[0;31mTypeError\u001b[0m                                 Traceback (most recent call last)",
      "Cell \u001b[0;32mIn[9], line 2\u001b[0m\n\u001b[1;32m      1\u001b[0m \u001b[38;5;28;01mimport\u001b[39;00m \u001b[38;5;21;01mnumpy\u001b[39;00m \u001b[38;5;28;01mas\u001b[39;00m \u001b[38;5;21;01mnp\u001b[39;00m\n\u001b[0;32m----> 2\u001b[0m \u001b[38;5;28mprint\u001b[39m(\u001b[38;5;28;43mlen\u001b[39;49m\u001b[43m(\u001b[49m\u001b[38;5;241;43m2\u001b[39;49m\u001b[43m)\u001b[49m)\n",
      "\u001b[0;31mTypeError\u001b[0m: object of type 'int' has no len()"
     ]
    }
   ],
   "source": [
    "import numpy as np\n",
    "print(len(2))"
   ]
  },
  {
   "cell_type": "code",
   "execution_count": null,
   "metadata": {},
   "outputs": [
    {
     "ename": "",
     "evalue": "",
     "output_type": "error",
     "traceback": [
      "\u001b[1;31mnotebook controller is DISPOSED. \n",
      "\u001b[1;31mView Jupyter <a href='command:jupyter.viewOutput'>log</a> for further details."
     ]
    }
   ],
   "source": []
  }
 ],
 "metadata": {
  "kernelspec": {
   "display_name": "openradar",
   "language": "python",
   "name": "python3"
  },
  "language_info": {
   "codemirror_mode": {
    "name": "ipython",
    "version": 3
   },
   "file_extension": ".py",
   "mimetype": "text/x-python",
   "name": "python",
   "nbconvert_exporter": "python",
   "pygments_lexer": "ipython3",
   "version": "3.11.8"
  }
 },
 "nbformat": 4,
 "nbformat_minor": 2
}
