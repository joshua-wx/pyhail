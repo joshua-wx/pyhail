{
 "cells": [
  {
   "cell_type": "code",
   "execution_count": 1,
   "metadata": {},
   "outputs": [
    {
     "name": "stdout",
     "output_type": "stream",
     "text": [
      "imports static in hsda\n"
     ]
    }
   ],
   "source": [
    "import pyodim\n",
    "import hdr, hsda, common"
   ]
  },
  {
   "cell_type": "code",
   "execution_count": 2,
   "metadata": {},
   "outputs": [
    {
     "name": "stdout",
     "output_type": "stream",
     "text": [
      "\n",
      "## You are using the Python ARM Radar Toolkit (Py-ART), an open source\n",
      "## library for working with weather radar data. Py-ART is partly\n",
      "## supported by the U.S. Department of Energy as part of the Atmospheric\n",
      "## Radiation Measurement (ARM) Climate Research Facility, an Office of\n",
      "## Science user facility.\n",
      "##\n",
      "## If you use this software to prepare a publication, please cite:\n",
      "##\n",
      "##     JJ Helmus and SM Collis, JORS 2016, doi: 10.5334/jors.119\n",
      "\n"
     ]
    }
   ],
   "source": [
    "filename = \"/home/jsoderho/Downloads/66_20231110_063000.pvol.h5\"\n",
    "radar_datasets = pyodim.read_odim(filename, lazy_load=False)"
   ]
  },
  {
   "cell_type": "code",
   "execution_count": 3,
   "metadata": {},
   "outputs": [],
   "source": [
    "for sweep in range(len(radar_datasets)):\n",
    "    #add HCA data\n",
    "    hca_meta = common.get_odim_ncar_hca(radar_datasets[sweep]['elevation'].data[0], filename, radar_datasets[sweep]['DBZH'].shape, skip_birdbath=True)\n",
    "    radar_datasets[sweep] = radar_datasets[sweep].merge(\n",
    "        {'hca': ((\"azimuth\", \"range\"), hca_meta['data']) })\n",
    "    \n",
    "    radar_datasets[sweep] = common.add_pyodim_sweep_metadata(radar_datasets[sweep], 'hca', hca_meta)\n",
    "    #hail retrievals\n",
    "    hdr_meta, hdr_size_meta = hdr.main(radar_datasets[sweep]['DBZH'].values,\n",
    "                                       radar_datasets[sweep]['ZDR'].values)\n",
    "    hsda_meta = hsda.main(radar_datasets[sweep]['DBZH'].values,\n",
    "                                        radar_datasets[sweep]['ZDR'].values,\n",
    "                                        radar_datasets[sweep]['RHOHV'].values,\n",
    "                                        radar_datasets[sweep]['hca'].values,\n",
    "                                        radar_datasets[sweep]['z'].values,\n",
    "                                        [4000,5500],\n",
    "                                        [6, 7, 8])\n",
    "    #add new fields\n",
    "    radar_datasets[sweep] = radar_datasets[sweep].merge(\n",
    "        {'hdr': ((\"azimuth\", \"range\"), hdr_meta['data']),\n",
    "         'hdr_size': ((\"azimuth\", \"range\"), hdr_size_meta['data']),\n",
    "         'hsda': ((\"azimuth\", \"range\"), hsda_meta['data']) })\n",
    "    #update metadata for new fields\n",
    "    radar_datasets[sweep] = common.add_pyodim_sweep_metadata(radar_datasets[sweep], 'hdr', hdr_meta)\n",
    "    radar_datasets[sweep] = common.add_pyodim_sweep_metadata(radar_datasets[sweep], 'hdr_size', hdr_meta)\n",
    "    radar_datasets[sweep] = common.add_pyodim_sweep_metadata(radar_datasets[sweep], 'hsda', hsda_meta)\n"
   ]
  },
  {
   "cell_type": "code",
   "execution_count": null,
   "metadata": {},
   "outputs": [],
   "source": []
  }
 ],
 "metadata": {
  "kernelspec": {
   "display_name": "openradar",
   "language": "python",
   "name": "python3"
  },
  "language_info": {
   "codemirror_mode": {
    "name": "ipython",
    "version": 3
   },
   "file_extension": ".py",
   "mimetype": "text/x-python",
   "name": "python",
   "nbconvert_exporter": "python",
   "pygments_lexer": "ipython3",
   "version": "3.11.8"
  }
 },
 "nbformat": 4,
 "nbformat_minor": 2
}
