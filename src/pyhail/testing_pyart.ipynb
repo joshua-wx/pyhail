{
 "cells": [
  {
   "cell_type": "code",
   "execution_count": 1,
   "metadata": {},
   "outputs": [
    {
     "name": "stdout",
     "output_type": "stream",
     "text": [
      "imports static in hsda\n",
      "\n",
      "## You are using the Python ARM Radar Toolkit (Py-ART), an open source\n",
      "## library for working with weather radar data. Py-ART is partly\n",
      "## supported by the U.S. Department of Energy as part of the Atmospheric\n",
      "## Radiation Measurement (ARM) Climate Research Facility, an Office of\n",
      "## Science user facility.\n",
      "##\n",
      "## If you use this software to prepare a publication, please cite:\n",
      "##\n",
      "##     JJ Helmus and SM Collis, JORS 2016, doi: 10.5334/jors.119\n",
      "\n"
     ]
    }
   ],
   "source": [
    "import common, hdr, hsda\n",
    "import pyart\n",
    "\n",
    "import numpy as np"
   ]
  },
  {
   "cell_type": "code",
   "execution_count": 2,
   "metadata": {},
   "outputs": [],
   "source": [
    "filename = \"/home/jsoderho/Downloads/66_20231110_063000.pvol.h5\"\n",
    "radar = pyart.aux_io.read_odim_h5(filename)"
   ]
  },
  {
   "cell_type": "code",
   "execution_count": 3,
   "metadata": {},
   "outputs": [
    {
     "name": "stdout",
     "output_type": "stream",
     "text": [
      "90.0\n",
      "(360, 1490)\n",
      "(360, 1490)\n",
      "32.0\n",
      "(360, 1490)\n",
      "(360, 1490)\n",
      "23.0\n",
      "(360, 1490)\n",
      "(360, 1490)\n",
      "17.0\n",
      "(360, 1490)\n",
      "(360, 1490)\n",
      "13.0\n",
      "(360, 1490)\n",
      "(360, 1490)\n",
      "10.0\n",
      "(360, 1490)\n",
      "(360, 1490)\n",
      "7.8\n",
      "(360, 1490)\n",
      "(360, 1490)\n",
      "6.0\n",
      "(360, 1490)\n",
      "(360, 1490)\n",
      "4.7\n",
      "(360, 1490)\n",
      "(360, 1490)\n",
      "3.5\n",
      "(360, 1490)\n",
      "(360, 1490)\n",
      "2.4\n",
      "(360, 1490)\n",
      "(360, 1490)\n",
      "1.4\n",
      "(360, 1490)\n",
      "(360, 1490)\n",
      "0.8\n",
      "(360, 1490)\n",
      "(360, 1490)\n",
      "0.5\n",
      "(360, 1490)\n",
      "(360, 1490)\n"
     ]
    }
   ],
   "source": [
    "#init dummy field\n",
    "empty_radar_field = {'data': np.zeros((radar.nrays, radar.ngates)),\n",
    "                     'units':'',\n",
    "                     'long_name': '',\n",
    "                     'description': '',\n",
    "                     'comments': ''}\n",
    "radar.add_field('hdr', empty_radar_field)\n",
    "radar.add_field('hdr_size', empty_radar_field)\n",
    "radar.add_field('hsda', empty_radar_field)\n",
    "radar.add_field('radar_classification', empty_radar_field)\n",
    "for sweep in range(radar.nsweeps):\n",
    "    hca_meta = common.get_odim_ncar_hca(radar.fixed_angle['data'][sweep],\n",
    "                                        filename,\n",
    "                                        radar.get_field(sweep, 'reflectivity_horizontal').shape, skip_birdbath=True)\n",
    "    radar.fields['radar_classification']['data'][radar.get_slice(sweep)] = hca_meta['data']\n",
    "\n",
    "    hdr_meta, hdr_size_meta = hdr.main(radar.get_field(sweep, 'reflectivity_horizontal'), \n",
    "                                       radar.get_field(sweep, 'differential_reflectivity'))\n",
    "    _, _, gate_z = radar.get_gate_x_y_z(sweep)\n",
    "    hsda_meta = hsda.main(radar.get_field(sweep, 'reflectivity_horizontal'),\n",
    "                          radar.get_field(sweep, 'differential_reflectivity'),\n",
    "                          radar.get_field(sweep, 'cross_correlation_ratio'),\n",
    "                          radar.get_field(sweep, 'radar_classification'),\n",
    "                          gate_z,\n",
    "                          [4000,5500],\n",
    "                          [6, 7, 8])\n",
    "\n",
    "    radar.fields['hdr']['data'][radar.get_slice(sweep)] = hdr_meta['data']\n",
    "    radar.fields['hdr_size']['data'][radar.get_slice(sweep)] = hdr_size_meta['data']\n",
    "    radar.fields['hsda']['data'][radar.get_slice(sweep)] = hsda_meta['data']\n",
    "\n",
    "#update metadata\n",
    "radar = common.add_pyart_metadata(radar, 'hdr', hdr_meta)\n",
    "radar = common.add_pyart_metadata(radar, 'hdr_size', hdr_size_meta)\n",
    "radar = common.add_pyart_metadata(radar, 'hsda', hsda_meta)\n",
    "\n"
   ]
  },
  {
   "cell_type": "code",
   "execution_count": null,
   "metadata": {},
   "outputs": [],
   "source": []
  }
 ],
 "metadata": {
  "kernelspec": {
   "display_name": "openradar",
   "language": "python",
   "name": "python3"
  },
  "language_info": {
   "codemirror_mode": {
    "name": "ipython",
    "version": 3
   },
   "file_extension": ".py",
   "mimetype": "text/x-python",
   "name": "python",
   "nbconvert_exporter": "python",
   "pygments_lexer": "ipython3",
   "version": "3.11.8"
  }
 },
 "nbformat": 4,
 "nbformat_minor": 2
}
