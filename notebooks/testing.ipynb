{
 "cells": [
  {
   "cell_type": "code",
   "execution_count": 1,
   "metadata": {},
   "outputs": [
    {
     "name": "stdout",
     "output_type": "stream",
     "text": [
      "\n",
      "## You are using the Python ARM Radar Toolkit (Py-ART), an open source\n",
      "## library for working with weather radar data. Py-ART is partly\n",
      "## supported by the U.S. Department of Energy as part of the Atmospheric\n",
      "## Radiation Measurement (ARM) Climate Research Facility, an Office of\n",
      "## Science user facility.\n",
      "##\n",
      "## If you use this software to prepare a publication, please cite:\n",
      "##\n",
      "##     JJ Helmus and SM Collis, JORS 2016, doi: 10.5334/jors.119\n",
      "\n"
     ]
    }
   ],
   "source": [
    "import os\n",
    "import numpy as np\n",
    "from pyhail import hdr, mesh_grid, common, hsda, hacc, mesh_ppi\n",
    "import pyart\n",
    "\n"
   ]
  },
  {
   "cell_type": "code",
   "execution_count": 2,
   "metadata": {},
   "outputs": [],
   "source": [
    "radar_fn = '/g/data/kl02/jss548/aura/testing_files/hail/76_20230102_041500.pvol.h5'\n",
    "radar = pyart.aux_io.read_odim_h5(radar_fn)\n",
    "\n",
    "data_dict = {'reflectivity_horizontal':radar.fields['reflectivity_horizontal']['data']}\n",
    "\n",
    "coords_dict = {'azimuth':radar.azimuth['data'],\n",
    "               'range':radar.range['data'],\n",
    "               'elevation':radar.elevation['data'],\n",
    "               'altitude':radar.altitude['data'][0],\n",
    "               'fixed_angle':radar.fixed_angle['data'],\n",
    "               'sweep_start_ray_index':radar.sweep_start_ray_index['data'],\n",
    "               'sweep_end_ray_index':radar.sweep_end_ray_index['data']}\n"
   ]
  },
  {
   "cell_type": "code",
   "execution_count": 3,
   "metadata": {},
   "outputs": [],
   "source": [
    "meshppi_fields = mesh_ppi.main(data_dict, coords_dict, 'reflectivity_horizontal', levels=[4000, 6000], min_range=10, max_range=150,\n",
    "                 mesh_method='mh2019_75', radar_band='S')\n",
    "\n",
    "data_dict['mesh'] = meshppi_fields['mesh_mh2019_75']"
   ]
  },
  {
   "cell_type": "code",
   "execution_count": 4,
   "metadata": {},
   "outputs": [
    {
     "ename": "",
     "evalue": "",
     "output_type": "error",
     "traceback": [
      "\u001b[1;31mThe Kernel crashed while executing code in the current cell or a previous cell. \n",
      "\u001b[1;31mPlease review the code in the cell(s) to identify a possible cause of the failure. \n",
      "\u001b[1;31mClick <a href='https://aka.ms/vscodeJupyterKernelCrash'>here</a> for more info. \n",
      "\u001b[1;31mView Jupyter <a href='command:jupyter.viewOutput'>log</a> for further details."
     ]
    }
   ],
   "source": [
    "hacc_meta = hacc.main(data_dict, coords_dict, 4000, 600, 'reflectivity_horizontal', None, 'mesh', sp_reflectivity_threshold=55)"
   ]
  },
  {
   "cell_type": "code",
   "execution_count": null,
   "metadata": {},
   "outputs": [],
   "source": []
  }
 ],
 "metadata": {
  "kernelspec": {
   "display_name": "openradar",
   "language": "python",
   "name": "python3"
  },
  "language_info": {
   "codemirror_mode": {
    "name": "ipython",
    "version": 3
   },
   "file_extension": ".py",
   "mimetype": "text/x-python",
   "name": "python",
   "nbconvert_exporter": "python",
   "pygments_lexer": "ipython3",
   "version": "3.12.3"
  }
 },
 "nbformat": 4,
 "nbformat_minor": 2
}
