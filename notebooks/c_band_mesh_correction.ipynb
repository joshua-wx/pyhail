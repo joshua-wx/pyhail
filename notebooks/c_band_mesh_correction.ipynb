{
 "cells": [
  {
   "cell_type": "code",
   "execution_count": null,
   "metadata": {},
   "outputs": [],
   "source": [
    "\"\"\"\n",
    "This example demonstrates the impact of the C band hail reflectivity \n",
    "(Brook et al. 2023 https://arxiv.org/abs/2306.12016) using overlapping C and S band radars\n",
    "for the Sydney 20-12-2018 hailstorm\n",
    "\"\"\""
   ]
  },
  {
   "cell_type": "code",
   "execution_count": 1,
   "metadata": {},
   "outputs": [
    {
     "name": "stdout",
     "output_type": "stream",
     "text": [
      "\n",
      "## You are using the Python ARM Radar Toolkit (Py-ART), an open source\n",
      "## library for working with weather radar data. Py-ART is partly\n",
      "## supported by the U.S. Department of Energy as part of the Atmospheric\n",
      "## Radiation Measurement (ARM) Climate Research Facility, an Office of\n",
      "## Science user facility.\n",
      "##\n",
      "## If you use this software to prepare a publication, please cite:\n",
      "##\n",
      "##     JJ Helmus and SM Collis, JORS 2016, doi: 10.5334/jors.119\n",
      "\n"
     ]
    },
    {
     "name": "stderr",
     "output_type": "stream",
     "text": [
      "/g/data/en0/jss548/miniconda3/envs/openradar/lib/python3.8/site-packages/tqdm/auto.py:22: TqdmWarning: IProgress not found. Please update jupyter and ipywidgets. See https://ipywidgets.readthedocs.io/en/stable/user_install.html\n",
      "  from .autonotebook import tqdm as notebook_tqdm\n",
      "/g/data/en0/jss548/miniconda3/envs/openradar/lib/python3.8/site-packages/pyhail-2.0.1-py3.8.egg/pyhail/mesh_ppi.py:57: SyntaxWarning: \"is not\" with a literal. Did you mean \"!=\"?\n",
      "/g/data/en0/jss548/miniconda3/envs/openradar/lib/python3.8/site-packages/pyhail-2.0.1-py3.8.egg/pyhail/mesh_ppi.py:57: SyntaxWarning: \"is not\" with a literal. Did you mean \"!=\"?\n"
     ]
    }
   ],
   "source": [
    "import os\n",
    "from urllib import request\n",
    "from matplotlib import pyplot as plt\n",
    "import pyart\n",
    "from pyhail import mesh_ppi"
   ]
  },
  {
   "cell_type": "code",
   "execution_count": 2,
   "metadata": {},
   "outputs": [],
   "source": [
    "#config\n",
    "cband_radar_url  = 'https://pyhail-public.s3.ap-southeast-2.amazonaws.com/54_20181220_042503.pvol.h5'\n",
    "sband_radar_url  = 'https://pyhail-public.s3.ap-southeast-2.amazonaws.com/71_20181220_052428.pvol.h5'\n",
    "cband_refl_offset = -5.08 #dBZ\n",
    "sband_refl_offset = 1.51 #dBZ\n",
    "freezing_level = 3000 #m\n",
    "minus20_level = 5000 #m\n",
    "max_lat = -33.5\n",
    "min_lat = -34.2\n",
    "max_lon = 150.8\n",
    "min_lon = 151.5\n",
    "n_grid_lines = 5"
   ]
  },
  {
   "cell_type": "code",
   "execution_count": 3,
   "metadata": {},
   "outputs": [],
   "source": [
    "def _create_ppi_plot(subplot_idx, fieldname, tilt, vmin, vmax, display, cmap=None, title=None, subplot_ncols=2, subplot_nrows=2):\n",
    "    \"\"\"\n",
    "    subplot creation function\n",
    "    \"\"\"\n",
    "    #create subplot axis\n",
    "    ax=plt.subplot(subplot_ncols, subplot_nrows, subplot_idx, projection=ccrs.PlateCarree())\n",
    "    if cmap is None:\n",
    "        display.plot_ppi_map(fieldname,tilt, vmin=vmin, vmax=vmax, resolution = '10m', ax=ax,\n",
    "                                max_lat = max_lat, min_lat =min_lat, min_lon = min_lon, max_lon = max_lon,\n",
    "                                lat_lines = lat_lines, lon_lines = lon_lines)\n",
    "    else:\n",
    "        display.plot_ppi_map(fieldname,tilt, vmin=vmin, vmax=vmax, resolution = '10m', ax=ax,\n",
    "                                max_lat = max_lat, min_lat =min_lat, min_lon = min_lon, max_lon = max_lon,\n",
    "                                lat_lines = lat_lines, lon_lines = lon_lines,\n",
    "                                cmap=cmap)\n",
    "    #add title\n",
    "    if title is not None:\n",
    "        plt.set_title(title)"
   ]
  },
  {
   "cell_type": "code",
   "execution_count": 4,
   "metadata": {},
   "outputs": [
    {
     "ename": "ValueError",
     "evalue": "radar_band must be a string of value C or S",
     "output_type": "error",
     "traceback": [
      "\u001b[0;31m---------------------------------------------------------------------------\u001b[0m",
      "\u001b[0;31mValueError\u001b[0m                                Traceback (most recent call last)",
      "Cell \u001b[0;32mIn[4], line 21\u001b[0m\n\u001b[1;32m     18\u001b[0m sband_radar\u001b[39m.\u001b[39madd_field_like(\u001b[39m'\u001b[39m\u001b[39mreflectivity_horizontal\u001b[39m\u001b[39m'\u001b[39m, \u001b[39m'\u001b[39m\u001b[39mcorrected_reflectivity\u001b[39m\u001b[39m'\u001b[39m, sband_cal_refl)\n\u001b[1;32m     20\u001b[0m \u001b[39m#run mesh retrievals\u001b[39;00m\n\u001b[0;32m---> 21\u001b[0m meshppi_cband_fields \u001b[39m=\u001b[39m mesh_ppi\u001b[39m.\u001b[39;49mmain(cband_radar, \u001b[39m'\u001b[39;49m\u001b[39mcorrected_reflectivity\u001b[39;49m\u001b[39m'\u001b[39;49m, levels\u001b[39m=\u001b[39;49m[freezing_level, minus20_level], min_range\u001b[39m=\u001b[39;49m\u001b[39m10\u001b[39;49m, max_range\u001b[39m=\u001b[39;49m\u001b[39m150\u001b[39;49m,\n\u001b[1;32m     22\u001b[0m                  mesh_method\u001b[39m=\u001b[39;49m\u001b[39m'\u001b[39;49m\u001b[39mmh2019_75\u001b[39;49m\u001b[39m'\u001b[39;49m, radar_band\u001b[39m=\u001b[39;49m\u001b[39m'\u001b[39;49m\u001b[39mC\u001b[39;49m\u001b[39m'\u001b[39;49m, correct_cband_refl\u001b[39m=\u001b[39;49m\u001b[39mTrue\u001b[39;49;00m)\n\u001b[1;32m     23\u001b[0m meshppi_cband__uncorr_fields \u001b[39m=\u001b[39m mesh_ppi\u001b[39m.\u001b[39mmain(cband_radar, \u001b[39m'\u001b[39m\u001b[39mcorrected_reflectivity\u001b[39m\u001b[39m'\u001b[39m, levels\u001b[39m=\u001b[39m[freezing_level, minus20_level], min_range\u001b[39m=\u001b[39m\u001b[39m10\u001b[39m, max_range\u001b[39m=\u001b[39m\u001b[39m150\u001b[39m,\n\u001b[1;32m     24\u001b[0m                  mesh_method\u001b[39m=\u001b[39m\u001b[39m'\u001b[39m\u001b[39mmh2019_75\u001b[39m\u001b[39m'\u001b[39m, radar_band\u001b[39m=\u001b[39m\u001b[39m'\u001b[39m\u001b[39mC\u001b[39m\u001b[39m'\u001b[39m, correct_cband_refl\u001b[39m=\u001b[39m\u001b[39mFalse\u001b[39;00m)\n\u001b[1;32m     25\u001b[0m meshppi_sband_fields \u001b[39m=\u001b[39m mesh_ppi\u001b[39m.\u001b[39mmain(sband_radar, \u001b[39m'\u001b[39m\u001b[39mcorrected_reflectivity\u001b[39m\u001b[39m'\u001b[39m, levels\u001b[39m=\u001b[39m[freezing_level, minus20_level], min_range\u001b[39m=\u001b[39m\u001b[39m10\u001b[39m, max_range\u001b[39m=\u001b[39m\u001b[39m150\u001b[39m,\n\u001b[1;32m     26\u001b[0m                  mesh_method\u001b[39m=\u001b[39m\u001b[39m'\u001b[39m\u001b[39mmh2019_75\u001b[39m\u001b[39m'\u001b[39m, radar_band\u001b[39m=\u001b[39m\u001b[39m'\u001b[39m\u001b[39mS\u001b[39m\u001b[39m'\u001b[39m, correct_cband_refl\u001b[39m=\u001b[39m\u001b[39mTrue\u001b[39;00m)\n",
      "File \u001b[0;32m/g/data/en0/jss548/miniconda3/envs/openradar/lib/python3.8/site-packages/pyhail-2.0.1-py3.8.egg/pyhail/mesh_ppi.py:58\u001b[0m, in \u001b[0;36mmain\u001b[0;34m(radar, dbz_fname, levels, radar_band, min_range, max_range, mesh_method, mesh_fname, posh_fname, ke_fname, shi_fname, correct_cband_refl)\u001b[0m\n\u001b[1;32m     56\u001b[0m \u001b[39m# require C or S band\u001b[39;00m\n\u001b[1;32m     57\u001b[0m \u001b[39mif\u001b[39;00m radar_band \u001b[39mis\u001b[39;00m \u001b[39mnot\u001b[39;00m \u001b[39m\"\u001b[39m\u001b[39mC\u001b[39m\u001b[39m\"\u001b[39m \u001b[39mor\u001b[39;00m \u001b[39m\"\u001b[39m\u001b[39mS\u001b[39m\u001b[39m\"\u001b[39m:\n\u001b[0;32m---> 58\u001b[0m     \u001b[39mraise\u001b[39;00m \u001b[39mValueError\u001b[39;00m(\u001b[39m\"\u001b[39m\u001b[39mradar_band must be a string of value C or S\u001b[39m\u001b[39m\"\u001b[39m)\n\u001b[1;32m     59\u001b[0m \u001b[39m# require levels\u001b[39;00m\n\u001b[1;32m     60\u001b[0m \u001b[39mif\u001b[39;00m levels \u001b[39mis\u001b[39;00m \u001b[39mNone\u001b[39;00m:\n",
      "\u001b[0;31mValueError\u001b[0m: radar_band must be a string of value C or S"
     ]
    }
   ],
   "source": [
    "#download example data\n",
    "tmp_path    = '/tmp/pyhail_example_data'\n",
    "if not os.path.exists(tmp_path):\n",
    "    os.makedirs(tmp_path)\n",
    "cband_radar_ffn    = f'{tmp_path}/54_20181220_042503.pvol.h5'\n",
    "sband_radar_ffn    = f'{tmp_path}/71_20181220_052428.pvol.h5'\n",
    "request.urlretrieve(cband_radar_url, cband_radar_ffn)\n",
    "request.urlretrieve(sband_radar_url, sband_radar_ffn)\n",
    "\n",
    "#read example data\n",
    "cband_radar = pyart.aux_io.read_odim_h5(cband_radar_ffn)\n",
    "sband_radar = pyart.aux_io.read_odim_h5(sband_radar_ffn)\n",
    "\n",
    "#calibrate reflectivity\n",
    "cband_cal_refl = cband_radar.fields['reflectivity_horizontal']['data'] - cband_refl_offset\n",
    "cband_radar.add_field_like('reflectivity_horizontal', 'corrected_reflectivity', cband_cal_refl)\n",
    "sband_cal_refl = sband_radar.fields['reflectivity_horizontal']['data'] - sband_refl_offset\n",
    "sband_radar.add_field_like('reflectivity_horizontal', 'corrected_reflectivity', sband_cal_refl)\n",
    "\n",
    "#run mesh retrievals\n",
    "meshppi_cband_fields = mesh_ppi.main(cband_radar, 'corrected_reflectivity', levels=[freezing_level, minus20_level], min_range=10, max_range=150,\n",
    "                 mesh_method='mh2019_75', radar_band='C', correct_cband_refl=True)\n",
    "meshppi_cband__uncorr_fields = mesh_ppi.main(cband_radar, 'corrected_reflectivity', levels=[freezing_level, minus20_level], min_range=10, max_range=150,\n",
    "                 mesh_method='mh2019_75', radar_band='C', correct_cband_refl=False)\n",
    "meshppi_sband_fields = mesh_ppi.main(sband_radar, 'corrected_reflectivity', levels=[freezing_level, minus20_level], min_range=10, max_range=150,\n",
    "                 mesh_method='mh2019_75', radar_band='S', correct_cband_refl=True)\n",
    "\n",
    "#add to a radar object\n",
    "radar = cband_radar\n",
    "radar.add_field('cband_mesh', meshppi_cband_fields, replace_existing=True)\n",
    "radar.add_field('cband_uncorr_mesh', meshppi_cband__uncorr_fields, replace_existing=True)\n",
    "radar.add_field('sband_mesh', meshppi_sband_fields, replace_existing=True)\n",
    "\n",
    "#plot\n",
    "fig = plt.figure(figsize=[10,10])\n",
    "display = pyart.graph.RadarMapDisplay(radar)\n",
    "lat_lines = np.linspace(min_lat, max_lat, n_grid_lines)\n",
    "lon_lines = np.linspace(min_lon, max_lon, n_grid_lines)\n",
    "_create_ppi_plot(0, 'cband_mesh', 0, 0, 50, cmap='hot_r')\n",
    "_create_ppi_plot(1, 'cband_uncorr_mesh', 0, 0, 50, cmap='hot_r')\n",
    "_create_ppi_plot(2, 'sband_mesh', 0, 0, 50, cmap='hot_r')"
   ]
  },
  {
   "cell_type": "code",
   "execution_count": null,
   "metadata": {},
   "outputs": [],
   "source": []
  }
 ],
 "metadata": {
  "kernelspec": {
   "display_name": "openradar",
   "language": "python",
   "name": "python3"
  },
  "language_info": {
   "codemirror_mode": {
    "name": "ipython",
    "version": 3
   },
   "file_extension": ".py",
   "mimetype": "text/x-python",
   "name": "python",
   "nbconvert_exporter": "python",
   "pygments_lexer": "ipython3",
   "version": "3.8.15"
  },
  "vscode": {
   "interpreter": {
    "hash": "04d867ee87f9044dc7f11d01646e680a5ce7f4e8ee6560a832fb68cd2954f3a6"
   }
  }
 },
 "nbformat": 4,
 "nbformat_minor": 4
}
